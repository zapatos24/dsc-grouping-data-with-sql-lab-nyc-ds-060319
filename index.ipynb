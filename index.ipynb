{
 "cells": [
  {
   "cell_type": "markdown",
   "metadata": {},
   "source": [
    "# Grouping Data with SQL - Lab"
   ]
  },
  {
   "cell_type": "markdown",
   "metadata": {},
   "source": [
    "## Introduction\n",
    "\n",
    "In this lab you'll query data from a table populated with Babe Ruth's career hitting statistics.  Then you'll use aggregate functions to pull interesting information from the table that basic queries cannot track. "
   ]
  },
  {
   "cell_type": "markdown",
   "metadata": {},
   "source": [
    "## Objectives"
   ]
  },
  {
   "cell_type": "markdown",
   "metadata": {},
   "source": [
    "* Write queries with aggregate functions like `COUNT`, `MAX`, `MIN`, and `SUM`\n",
    "* Create an alias for the return value of an aggregate function\n",
    "* Use `GROUP BY` to sort the data sets returned by aggregate functions\n",
    "* Compare aggregates using the `HAVING` clause"
   ]
  },
  {
   "cell_type": "markdown",
   "metadata": {},
   "source": [
    "## Babe Ruth - Career Hitting Statistics\n",
    "\n",
    "\n",
    "We will query from the `babe_ruth_stats` table featured below.\n",
    "\n",
    "year|team |league|doubles|triples|hits|HR|games|runs|RBI|at_bats|BB |SB|SO|AVG\n",
    "----|-----|------|-------|-------|----|--|-----|----|---|-------|---|--|--|------\n",
    "1914|\"BOS\"|\"AL\"  |1      |0      |2   |0 |5    |1   |2  |10     |0  |0 |4 |0.2\n",
    "1915|\"BOS\"|\"AL\"  |10     |1      |29  |4 |42   |16  |21 |92     |9  |0 |23|0.315\n",
    "1916|\"BOS\"|\"AL\"  |5      |3      |37  |3 |67   |18  |15 |136    |10 |0 |23|0.272\n",
    "1917|\"BOS\"|\"AL\"  |6      |3      |40  |2 |52   |14  |12 |123    |12 |0 |18|0.325\n",
    "1918|\"BOS\"|\"AL\"  |26     |11     |95  |11|95   |50  |66 |317    |58 |6 |58|0.3\n",
    "1919|\"BOS\"|\"AL\"  |34     |12     |139 |29|130  |103 |114|432    |101|7 |58|0.322\n",
    "1920|\"NY\" |\"AL\"  |36     |9      |172 |54|142  |158 |137|458    |150|14|80|0.376\n",
    "1921|\"NY\" |\"AL\"  |44     |16     |204 |59|152  |177 |171|540    |145|17|81|0.378\n",
    "1922|\"NY\" |\"AL\"  |24     |8      |128 |35|110  |94  |99 |406    |84 |2 |80|0.315\n",
    "1923|\"NY\" |\"AL\"  |45     |13     |205 |41|152  |151 |131|522    |170|17|93|0.393\n",
    "1924|\"NY\" |\"AL\"  |39     |7      |200 |46|153  |143 |121|529    |142|9 |81|0.378\n",
    "1925|\"NY\" |\"AL\"  |12     |2      |104 |25|98   |61  |66 |359    |59 |2 |68|0.29\n",
    "1926|\"NY\" |\"AL\"  |30     |5      |184 |47|152  |139 |146|495    |144|11|76|0.372\n",
    "1927|\"NY\" |\"AL\"  |29     |8      |192 |60|151  |158 |164|540    |137|7 |89|0.356\n",
    "1928|\"NY\" |\"AL\"  |29     |8      |173 |54|154  |163 |142|536    |137|4 |87|0.323\n",
    "1929|\"NY\" |\"AL\"  |26     |6      |172 |46|135  |121 |154|499    |72 |5 |60|0.345\n",
    "1930|\"NY\" |\"AL\"  |28     |9      |186 |49|145  |150 |153|518    |136|10|61|0.359\n",
    "1931|\"NY\" |\"AL\"  |31     |3      |199 |46|145  |149 |163|534    |128|5 |51|0.373\n",
    "1932|\"NY\" |\"AL\"  |13     |5      |156 |41|133  |120 |137|457    |130|2 |62|0.341\n",
    "1933|\"NY\" |\"AL\"  |21     |3      |138 |34|137  |97  |103|459    |114|4 |90|0.301\n",
    "1934|\"NY\" |\"AL\"  |17     |4      |105 |22|125  |78  |84 |365    |104|1 |63|0.288\n",
    "1935|\"BOS\"|\"NL\"  |0      |0      |13  |6 |28   |13  |12 |72     |20 |0 |24|0.181"
   ]
  },
  {
   "cell_type": "markdown",
   "metadata": {},
   "source": [
    "## Connect to the Database"
   ]
  },
  {
   "cell_type": "code",
   "execution_count": 2,
   "metadata": {},
   "outputs": [],
   "source": [
    "#Your code here\n",
    "import sqlite3\n",
    "conn = sqlite3.connect('babe_ruth.db')\n",
    "c = conn.cursor()"
   ]
  },
  {
   "cell_type": "markdown",
   "metadata": {},
   "source": [
    "## Total Seasons\n",
    "Return the total number of `year`s that Babe Ruth played professional baseball."
   ]
  },
  {
   "cell_type": "code",
   "execution_count": 3,
   "metadata": {},
   "outputs": [
    {
     "data": {
      "text/plain": [
       "[(22,)]"
      ]
     },
     "execution_count": 3,
     "metadata": {},
     "output_type": "execute_result"
    }
   ],
   "source": [
    "#Your code here\n",
    "c.execute('''select count(year) from babe_ruth_stats''').fetchall()"
   ]
  },
  {
   "cell_type": "markdown",
   "metadata": {},
   "source": [
    "## Seasons with NY\n",
    "Return the total number of years Babe Ruth played with the NY Yankees."
   ]
  },
  {
   "cell_type": "code",
   "execution_count": 4,
   "metadata": {},
   "outputs": [
    {
     "data": {
      "text/plain": [
       "[(15,)]"
      ]
     },
     "execution_count": 4,
     "metadata": {},
     "output_type": "execute_result"
    }
   ],
   "source": [
    "#Your code here\n",
    "c.execute('''select count(year) from babe_ruth_stats where team is \"NY\"''').fetchall()"
   ]
  },
  {
   "cell_type": "markdown",
   "metadata": {},
   "source": [
    "## Most HR\n",
    "Select the row with the most HR that Babe Ruth hit in one season"
   ]
  },
  {
   "cell_type": "code",
   "execution_count": 5,
   "metadata": {},
   "outputs": [
    {
     "data": {
      "text/plain": [
       "[(14, 1927, 'NY', 'AL', 29, 8, 192, 60, 151, 158, 164, 540, 137, 7, 89, 0.356)]"
      ]
     },
     "execution_count": 5,
     "metadata": {},
     "output_type": "execute_result"
    }
   ],
   "source": [
    "#Your code here\n",
    "c.execute('''select * from babe_ruth_stats order by HR desc limit 1''').fetchall()"
   ]
  },
  {
   "cell_type": "markdown",
   "metadata": {},
   "source": [
    "## Least HR\n",
    "Select the row with the least number of HR hit in one season."
   ]
  },
  {
   "cell_type": "code",
   "execution_count": 6,
   "metadata": {},
   "outputs": [
    {
     "data": {
      "text/plain": [
       "[(1, 1914, 'BOS', 'AL', 1, 0, 2, 0, 5, 1, 2, 10, 0, 0, 4, 0.2)]"
      ]
     },
     "execution_count": 6,
     "metadata": {},
     "output_type": "execute_result"
    }
   ],
   "source": [
    "#Your code here\n",
    "c.execute('''select * from babe_ruth_stats order by HR limit 1''').fetchall()"
   ]
  },
  {
   "cell_type": "markdown",
   "metadata": {},
   "source": [
    "## Total HR\n",
    "Return the total number of `HR` hit by Babe Ruth during his career"
   ]
  },
  {
   "cell_type": "code",
   "execution_count": 11,
   "metadata": {},
   "outputs": [
    {
     "data": {
      "text/plain": [
       "[(714,)]"
      ]
     },
     "execution_count": 11,
     "metadata": {},
     "output_type": "execute_result"
    }
   ],
   "source": [
    "#Your code here\n",
    "c.execute('''select sum(HR) from babe_ruth_stats''').fetchall()"
   ]
  },
  {
   "cell_type": "markdown",
   "metadata": {},
   "source": [
    "##  5 Worst HR Seasons With at Least 100 Games Played\n",
    "Above you saw that Babe Ruth hit 0 home runs in his first year when he played only five games.  To avoid this and other extreme  outliers, first filter the data to those years in which Ruth played in at least 100 games. Then, select all of the columns for the 5 worst seasons, in terms of the number of home runs, where he played over 100 games."
   ]
  },
  {
   "cell_type": "code",
   "execution_count": 12,
   "metadata": {},
   "outputs": [
    {
     "data": {
      "text/plain": [
       "[(21, 1934, 'NY', 'AL', 17, 4, 105, 22, 125, 78, 84, 365, 104, 1, 63, 0.288),\n",
       " (6,\n",
       "  1919,\n",
       "  'BOS',\n",
       "  'AL',\n",
       "  34,\n",
       "  12,\n",
       "  139,\n",
       "  29,\n",
       "  130,\n",
       "  103,\n",
       "  114,\n",
       "  432,\n",
       "  101,\n",
       "  7,\n",
       "  58,\n",
       "  0.322),\n",
       " (20, 1933, 'NY', 'AL', 21, 3, 138, 34, 137, 97, 103, 459, 114, 4, 90, 0.301),\n",
       " (9, 1922, 'NY', 'AL', 24, 8, 128, 35, 110, 94, 99, 406, 84, 2, 80, 0.315),\n",
       " (10,\n",
       "  1923,\n",
       "  'NY',\n",
       "  'AL',\n",
       "  45,\n",
       "  13,\n",
       "  205,\n",
       "  41,\n",
       "  152,\n",
       "  151,\n",
       "  131,\n",
       "  522,\n",
       "  170,\n",
       "  17,\n",
       "  93,\n",
       "  0.393)]"
      ]
     },
     "execution_count": 12,
     "metadata": {},
     "output_type": "execute_result"
    }
   ],
   "source": [
    "#Your code here\n",
    "c.execute('''select * from babe_ruth_stats where games >=100 order by HR limit 5''').fetchall()"
   ]
  },
  {
   "cell_type": "markdown",
   "metadata": {},
   "source": [
    "## Average Batting Average\n",
    "Select the average, `AVG`, of Ruth's batting averages.  The header of the result would be `AVG(AVG)` which is quite confusing, so provide an alias of `career_average`."
   ]
  },
  {
   "cell_type": "code",
   "execution_count": 13,
   "metadata": {},
   "outputs": [
    {
     "data": {
      "text/plain": [
       "[(0.3228636363636364,)]"
      ]
     },
     "execution_count": 13,
     "metadata": {},
     "output_type": "execute_result"
    }
   ],
   "source": [
    "#Your code here\n",
    "c.execute('''select avg(avg) as career_average from babe_ruth_stats''').fetchall()"
   ]
  },
  {
   "cell_type": "markdown",
   "metadata": {},
   "source": [
    "## Total Years and Hits Per Team\n",
    "Select the total number of years played and hits Babe Ruth had for each team he played for."
   ]
  },
  {
   "cell_type": "code",
   "execution_count": 14,
   "metadata": {},
   "outputs": [
    {
     "data": {
      "text/plain": [
       "[(7, 355), (15, 2518)]"
      ]
     },
     "execution_count": 14,
     "metadata": {},
     "output_type": "execute_result"
    }
   ],
   "source": [
    "#Your code here\n",
    "c.execute('''select count(year), sum(hits) from babe_ruth_stats group by team''').fetchall()"
   ]
  },
  {
   "cell_type": "markdown",
   "metadata": {},
   "source": [
    "## Number of Years with 300+ On Base\n",
    "We want to know the years in which Ruth successfully reached base over 300 times.  We need to add `hits` and `BB` to calculate how many times Ruth reached base.  Simply add the two columns together (ie: `SELECT hits + BB FROM ...`) and give this value an alias of `on_base`.  Select the `year` and `on_base` for only those years with an `on_base` over 300.  "
   ]
  },
  {
   "cell_type": "code",
   "execution_count": 16,
   "metadata": {},
   "outputs": [
    {
     "data": {
      "text/plain": [
       "[(1920, 322),\n",
       " (1921, 349),\n",
       " (1923, 375),\n",
       " (1924, 342),\n",
       " (1926, 328),\n",
       " (1927, 329),\n",
       " (1928, 310),\n",
       " (1930, 322),\n",
       " (1931, 327)]"
      ]
     },
     "execution_count": 16,
     "metadata": {},
     "output_type": "execute_result"
    }
   ],
   "source": [
    "#Your code here\n",
    "c.execute(\"\"\"select year, hits + BB as on_base from babe_ruth_stats where on_base > 300\"\"\").fetchall()"
   ]
  },
  {
   "cell_type": "markdown",
   "metadata": {},
   "source": [
    "## Summary"
   ]
  },
  {
   "cell_type": "markdown",
   "metadata": {},
   "source": [
    "Well done! In this lab, you continued adding complexity to SQL statements and wrote aggregate functions. You were able to build queries that showed the total years and home runs earned by team as well as calculating Babe Ruth's total on base and then selecting only years that met a minimum value of our calculated on the base attribute. "
   ]
  }
 ],
 "metadata": {
  "kernelspec": {
   "display_name": "Python 3",
   "language": "python",
   "name": "python3"
  },
  "language_info": {
   "codemirror_mode": {
    "name": "ipython",
    "version": 3
   },
   "file_extension": ".py",
   "mimetype": "text/x-python",
   "name": "python",
   "nbconvert_exporter": "python",
   "pygments_lexer": "ipython3",
   "version": "3.6.6"
  }
 },
 "nbformat": 4,
 "nbformat_minor": 2
}
